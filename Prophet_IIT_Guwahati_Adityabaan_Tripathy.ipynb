{
  "nbformat": 4,
  "nbformat_minor": 0,
  "metadata": {
    "colab": {
      "provenance": [],
      "authorship_tag": "ABX9TyNz3Ys+iZezuGY+9+DHnCsJ",
      "include_colab_link": true
    },
    "kernelspec": {
      "name": "python3",
      "display_name": "Python 3"
    },
    "language_info": {
      "name": "python"
    }
  },
  "cells": [
    {
      "cell_type": "markdown",
      "metadata": {
        "id": "view-in-github",
        "colab_type": "text"
      },
      "source": [
        "<a href=\"https://colab.research.google.com/github/Adityabaan/PROPHET-IIT_GUWAHATI-Stock-Predictor/blob/main/Prophet_IIT_Guwahati_Adityabaan_Tripathy.ipynb\" target=\"_parent\"><img src=\"https://colab.research.google.com/assets/colab-badge.svg\" alt=\"Open In Colab\"/></a>"
      ]
    },
    {
      "cell_type": "markdown",
      "source": [
        "# **Install** **Dependencies**"
      ],
      "metadata": {
        "id": "hezt-R2xKHrd"
      }
    },
    {
      "cell_type": "code",
      "source": [
        "# Run this cell first in Colab\n",
        "!pip install yfinance --upgrade --quiet\n",
        "!pip install prophet --quiet\n",
        "!pip install statsmodels --quiet\n",
        "!pip install seaborn --quiet\n"
      ],
      "metadata": {
        "colab": {
          "base_uri": "https://localhost:8080/"
        },
        "id": "wGDUof6aTAjq",
        "outputId": "e488bac9-3427-467a-aad3-f2ab39c2953b"
      },
      "execution_count": null,
      "outputs": [
        {
          "output_type": "stream",
          "name": "stdout",
          "text": [
            "\u001b[?25l   \u001b[90m━━━━━━━━━━━━━━━━━━━━━━━━━━━━━━━━━━━━━━━━\u001b[0m \u001b[32m0.0/117.9 kB\u001b[0m \u001b[31m?\u001b[0m eta \u001b[36m-:--:--\u001b[0m\r\u001b[2K   \u001b[90m━━━━━━━━━━━━━━━━━━━━━━━━━━━━━━━━━━━━━━━━\u001b[0m \u001b[32m117.9/117.9 kB\u001b[0m \u001b[31m3.8 MB/s\u001b[0m eta \u001b[36m0:00:00\u001b[0m\n",
            "\u001b[?25h\u001b[?25l   \u001b[90m━━━━━━━━━━━━━━━━━━━━━━━━━━━━━━━━━━━━━━━━\u001b[0m \u001b[32m0.0/7.4 MB\u001b[0m \u001b[31m?\u001b[0m eta \u001b[36m-:--:--\u001b[0m\r\u001b[2K   \u001b[91m━━━━━━━━━━\u001b[0m\u001b[90m╺\u001b[0m\u001b[90m━━━━━━━━━━━━━━━━━━━━━━━━━━━━━\u001b[0m \u001b[32m1.9/7.4 MB\u001b[0m \u001b[31m59.5 MB/s\u001b[0m eta \u001b[36m0:00:01\u001b[0m\r\u001b[2K   \u001b[91m━━━━━━━━━━━━━━━━━━━━━━━━\u001b[0m\u001b[91m╸\u001b[0m\u001b[90m━━━━━━━━━━━━━━━\u001b[0m \u001b[32m4.6/7.4 MB\u001b[0m \u001b[31m64.2 MB/s\u001b[0m eta \u001b[36m0:00:01\u001b[0m\r\u001b[2K   \u001b[91m━━━━━━━━━━━━━━━━━━━━━━━━━━━━━━━━━━━━━━━\u001b[0m\u001b[91m╸\u001b[0m \u001b[32m7.4/7.4 MB\u001b[0m \u001b[31m71.3 MB/s\u001b[0m eta \u001b[36m0:00:01\u001b[0m\r\u001b[2K   \u001b[90m━━━━━━━━━━━━━━━━━━━━━━━━━━━━━━━━━━━━━━━━\u001b[0m \u001b[32m7.4/7.4 MB\u001b[0m \u001b[31m50.5 MB/s\u001b[0m eta \u001b[36m0:00:00\u001b[0m\n",
            "\u001b[?25h"
          ]
        }
      ]
    },
    {
      "cell_type": "markdown",
      "source": [
        "# **Import All Required Libraries**"
      ],
      "metadata": {
        "id": "L0dLNLGvKhWb"
      }
    },
    {
      "cell_type": "code",
      "source": [
        "import pandas as pd\n",
        "import numpy as np\n",
        "import matplotlib.pyplot as plt\n",
        "import seaborn as sns\n",
        "import yfinance as yf\n",
        "from datetime import datetime, timedelta\n",
        "from statsmodels.tsa.seasonal import seasonal_decompose\n",
        "from statsmodels.tsa.stattools import adfuller\n",
        "from statsmodels.tsa.arima.model import ARIMA\n",
        "from prophet import Prophet\n",
        "import warnings\n",
        "warnings.filterwarnings('ignore')\n",
        "#Official Work of Adityabaan Tripathy"
      ],
      "metadata": {
        "id": "rZbWmqnpTNTh"
      },
      "execution_count": null,
      "outputs": []
    },
    {
      "cell_type": "markdown",
      "source": [
        "# **Download Data (Batch Download, Rate Limit Safe)**"
      ],
      "metadata": {
        "id": "cjxC24NrKvF0"
      }
    },
    {
      "cell_type": "code",
      "source": [
        "# Define your stock universe (feel free to change!)\n",
        "stocks = [\n",
        "    'RELIANCE.NS', 'TCS.NS', 'HDFCBANK.NS', 'INFY.NS', 'ICICIBANK.NS',\n",
        "    'HINDUNILVR.NS', 'SBIN.NS', 'AXISBANK.NS', 'BAJFINANCE.NS', 'ASIANPAINT.NS'\n",
        "]\n",
        "start_date = '2020-01-01'\n",
        "end_date = '2024-12-31'\n",
        "\n",
        "# Batch download data for all stocks\n",
        "data = yf.download(stocks, start=start_date, end=end_date, group_by='ticker', auto_adjust=True, progress=True)\n",
        "\n",
        "# Organize data into a dictionary per stock\n",
        "stock_data = {}\n",
        "for stock in stocks:\n",
        "    if stock in data.columns.levels[0]:\n",
        "        stock_data[stock] = data[stock].dropna().copy()\n",
        "        stock_data[stock].index = pd.to_datetime(stock_data[stock].index)\n",
        "    else:\n",
        "        print(f\"Data not found for {stock}\")\n",
        "print(f\"Downloaded data for {len(stock_data)} stocks.\")"
      ],
      "metadata": {
        "id": "TqDO57HYTi_5",
        "colab": {
          "base_uri": "https://localhost:8080/"
        },
        "outputId": "20356151-6982-43a9-805e-2f9cdc193fb2"
      },
      "execution_count": null,
      "outputs": [
        {
          "output_type": "stream",
          "name": "stderr",
          "text": [
            "[*********************100%***********************]  10 of 10 completed"
          ]
        },
        {
          "output_type": "stream",
          "name": "stdout",
          "text": [
            "Downloaded data for 10 stocks.\n"
          ]
        },
        {
          "output_type": "stream",
          "name": "stderr",
          "text": [
            "\n"
          ]
        }
      ]
    },
    {
      "cell_type": "markdown",
      "source": [
        "# **Data Preprocessing**"
      ],
      "metadata": {
        "id": "JyV3cKwgK4l7"
      }
    },
    {
      "cell_type": "code",
      "source": [
        "# Preprocess: Handle missing values, add returns\n",
        "def preprocess(df):\n",
        "    df = df.copy()\n",
        "    df = df.fillna(method='ffill').fillna(method='bfill')\n",
        "    df['Return'] = df['Close'].pct_change()\n",
        "    return df.dropna()\n",
        "\n",
        "for stock in stock_data:\n",
        "    stock_data[stock] = preprocess(stock_data[stock])\n"
      ],
      "metadata": {
        "id": "v7G-k6Q_UbDD"
      },
      "execution_count": null,
      "outputs": []
    },
    {
      "cell_type": "markdown",
      "source": [
        "# **Train-Test Split (Last 6 Months for Test)**"
      ],
      "metadata": {
        "id": "dncOTAl6K-1q"
      }
    },
    {
      "cell_type": "code",
      "source": [
        "test_start_date = (pd.to_datetime(end_date) - pd.DateOffset(months=6)).strftime('%Y-%m-%d')\n",
        "train_data = {}\n",
        "test_data = {}\n",
        "\n",
        "for stock in stock_data:\n",
        "    train_data[stock] = stock_data[stock][stock_data[stock].index < test_start_date]\n",
        "    test_data[stock] = stock_data[stock][stock_data[stock].index >= test_start_date]\n",
        "    print(f\"{stock}: Train {len(train_data[stock])}, Test {len(test_data[stock])}\")\n"
      ],
      "metadata": {
        "colab": {
          "base_uri": "https://localhost:8080/"
        },
        "id": "4rr_50W4Um7x",
        "outputId": "7d2394bb-27d4-4d43-fcf1-cf67a0a1c344"
      },
      "execution_count": null,
      "outputs": [
        {
          "output_type": "stream",
          "name": "stdout",
          "text": [
            "RELIANCE.NS: Train 1111, Test 125\n",
            "TCS.NS: Train 1111, Test 125\n",
            "HDFCBANK.NS: Train 1111, Test 125\n",
            "INFY.NS: Train 1111, Test 125\n",
            "ICICIBANK.NS: Train 1111, Test 125\n",
            "HINDUNILVR.NS: Train 1111, Test 125\n",
            "SBIN.NS: Train 1111, Test 125\n",
            "AXISBANK.NS: Train 1111, Test 125\n",
            "BAJFINANCE.NS: Train 1111, Test 125\n",
            "ASIANPAINT.NS: Train 1111, Test 125\n"
          ]
        }
      ]
    },
    {
      "cell_type": "markdown",
      "source": [
        "# **Stationarity Check**"
      ],
      "metadata": {
        "id": "sXLIU_a6LGcD"
      }
    },
    {
      "cell_type": "code",
      "source": [
        "def check_stationarity(ts):\n",
        "    result = adfuller(ts.dropna())\n",
        "    print(f\"ADF Statistic: {result[0]:.4f}, p-value: {result[1]:.4f}\")\n",
        "    return result[1] < 0.05  # True if stationary\n",
        "\n",
        "# Example: Check for one stock\n",
        "sample_stock = list(stock_data.keys())[0]\n",
        "print(f\"Checking stationarity for {sample_stock}:\")\n",
        "check_stationarity(stock_data[sample_stock]['Close'])\n"
      ],
      "metadata": {
        "colab": {
          "base_uri": "https://localhost:8080/"
        },
        "id": "jJDiXDolUtgZ",
        "outputId": "1991593c-701f-4346-ece0-ca903dd25f84"
      },
      "execution_count": null,
      "outputs": [
        {
          "output_type": "stream",
          "name": "stdout",
          "text": [
            "Checking stationarity for RELIANCE.NS:\n",
            "ADF Statistic: -1.9183, p-value: 0.3235\n"
          ]
        },
        {
          "output_type": "execute_result",
          "data": {
            "text/plain": [
              "np.False_"
            ]
          },
          "metadata": {},
          "execution_count": 6
        }
      ]
    },
    {
      "cell_type": "markdown",
      "source": [
        "# **ARIMA Forecast**"
      ],
      "metadata": {
        "id": "fMo3fEj5LM48"
      }
    },
    {
      "cell_type": "code",
      "source": [
        "# Fit ARIMA on returns for the last 6 months, forecast next 2 days\n",
        "arima_forecasts = {}\n",
        "for stock in stock_data:\n",
        "    ts = test_data[stock]['Return'].dropna()\n",
        "    try:\n",
        "        model = ARIMA(ts, order=(1,0,1))\n",
        "        model_fit = model.fit()\n",
        "        forecast = model_fit.forecast(steps=2)\n",
        "        last_price = test_data[stock]['Close'].iloc[-1]\n",
        "        price_forecast = [last_price * (1 + forecast.iloc[0]), last_price * (1 + forecast.iloc[0]) * (1 + forecast.iloc[1])]\n",
        "        arima_forecasts[stock] = price_forecast\n",
        "        print(f\"{stock}: ARIMA price forecast next 2 days: {price_forecast}\")\n",
        "    except Exception as e:\n",
        "\n",
        "        print(f\"{stock}: ARIMA failed: {e}\")\n"
      ],
      "metadata": {
        "colab": {
          "base_uri": "https://localhost:8080/"
        },
        "id": "OdgvwrK_U7Rx",
        "outputId": "8137e076-48d0-4172-81d6-037ef0ba1381"
      },
      "execution_count": null,
      "outputs": [
        {
          "output_type": "stream",
          "name": "stdout",
          "text": [
            "RELIANCE.NS: ARIMA price forecast next 2 days: [np.float64(1208.1392643909012), np.float64(1205.7933880429007)]\n",
            "TCS.NS: ARIMA price forecast next 2 days: [np.float64(4147.565253152741), np.float64(4152.826450209348)]\n",
            "HDFCBANK.NS: ARIMA price forecast next 2 days: [np.float64(1778.218270654474), np.float64(1779.2228949438086)]\n",
            "INFY.NS: ARIMA price forecast next 2 days: [np.float64(1909.6825173893649), np.float64(1913.0280864601705)]\n",
            "ICICIBANK.NS: ARIMA price forecast next 2 days: [np.float64(1294.169218528572), np.float64(1295.8313233928834)]\n",
            "HINDUNILVR.NS: ARIMA price forecast next 2 days: [np.float64(2342.6433481349777), np.float64(2341.9347925326792)]\n",
            "SBIN.NS: ARIMA price forecast next 2 days: [np.float64(788.0901791527998), np.float64(787.6193174491135)]\n",
            "AXISBANK.NS: ARIMA price forecast next 2 days: [np.float64(1069.1553055523498), np.float64(1067.5780776970057)]\n",
            "BAJFINANCE.NS: ARIMA price forecast next 2 days: [np.float64(6876.836846350947), np.float64(6875.774422760196)]\n",
            "ASIANPAINT.NS: ARIMA price forecast next 2 days: [np.float64(2289.825283505981), np.float64(2287.6890180138876)]\n"
          ]
        }
      ]
    },
    {
      "cell_type": "markdown",
      "source": [
        "# **Prophet Forecast**"
      ],
      "metadata": {
        "id": "RZBBOKMTLS-S"
      }
    },
    {
      "cell_type": "code",
      "source": [
        "prophet_forecasts = {}\n",
        "for stock in stock_data:\n",
        "    df = stock_data[stock].reset_index()[['Date','Close']].rename(columns={'Date':'ds','Close':'y'})\n",
        "    try:\n",
        "        m = Prophet(daily_seasonality=True)\n",
        "        m.fit(df)\n",
        "        future = m.make_future_dataframe(periods=2)\n",
        "        forecast = m.predict(future)\n",
        "        next2 = forecast.tail(2)['yhat'].values\n",
        "        prophet_forecasts[stock] = next2\n",
        "        print(f\"{stock}: Prophet price forecast next 2 days: {next2}\")\n",
        "    except Exception as e:\n",
        "        print(f\"{stock}: Prophet failed: {e}\")\n"
      ],
      "metadata": {
        "colab": {
          "base_uri": "https://localhost:8080/"
        },
        "id": "t9aCTLZhVzSz",
        "outputId": "44ad73bb-d6cd-43a9-e781-e5b1c05e1a84"
      },
      "execution_count": null,
      "outputs": [
        {
          "output_type": "stream",
          "name": "stderr",
          "text": [
            "DEBUG:cmdstanpy:input tempfile: /tmp/tmp_5el415y/5rvpg_2x.json\n",
            "DEBUG:cmdstanpy:input tempfile: /tmp/tmp_5el415y/uuow3qwb.json\n",
            "DEBUG:cmdstanpy:idx 0\n",
            "DEBUG:cmdstanpy:running CmdStan, num_threads: None\n",
            "DEBUG:cmdstanpy:CmdStan args: ['/usr/local/lib/python3.11/dist-packages/prophet/stan_model/prophet_model.bin', 'random', 'seed=49093', 'data', 'file=/tmp/tmp_5el415y/5rvpg_2x.json', 'init=/tmp/tmp_5el415y/uuow3qwb.json', 'output', 'file=/tmp/tmp_5el415y/prophet_modelpgh1u977/prophet_model-20250512071435.csv', 'method=optimize', 'algorithm=lbfgs', 'iter=10000']\n",
            "07:14:35 - cmdstanpy - INFO - Chain [1] start processing\n",
            "INFO:cmdstanpy:Chain [1] start processing\n",
            "07:14:36 - cmdstanpy - INFO - Chain [1] done processing\n",
            "INFO:cmdstanpy:Chain [1] done processing\n",
            "DEBUG:cmdstanpy:input tempfile: /tmp/tmp_5el415y/2p1mfypx.json\n"
          ]
        },
        {
          "output_type": "stream",
          "name": "stdout",
          "text": [
            "RELIANCE.NS: Prophet price forecast next 2 days: [1374.29906168 1380.03126669]\n"
          ]
        },
        {
          "output_type": "stream",
          "name": "stderr",
          "text": [
            "DEBUG:cmdstanpy:input tempfile: /tmp/tmp_5el415y/z2lel8lt.json\n",
            "DEBUG:cmdstanpy:idx 0\n",
            "DEBUG:cmdstanpy:running CmdStan, num_threads: None\n",
            "DEBUG:cmdstanpy:CmdStan args: ['/usr/local/lib/python3.11/dist-packages/prophet/stan_model/prophet_model.bin', 'random', 'seed=24948', 'data', 'file=/tmp/tmp_5el415y/2p1mfypx.json', 'init=/tmp/tmp_5el415y/z2lel8lt.json', 'output', 'file=/tmp/tmp_5el415y/prophet_modeln5vcmq6f/prophet_model-20250512071436.csv', 'method=optimize', 'algorithm=lbfgs', 'iter=10000']\n",
            "07:14:36 - cmdstanpy - INFO - Chain [1] start processing\n",
            "INFO:cmdstanpy:Chain [1] start processing\n",
            "07:14:37 - cmdstanpy - INFO - Chain [1] done processing\n",
            "INFO:cmdstanpy:Chain [1] done processing\n",
            "DEBUG:cmdstanpy:input tempfile: /tmp/tmp_5el415y/ag1cb7s3.json\n",
            "DEBUG:cmdstanpy:input tempfile: /tmp/tmp_5el415y/j_k7d32z.json\n",
            "DEBUG:cmdstanpy:idx 0\n",
            "DEBUG:cmdstanpy:running CmdStan, num_threads: None\n",
            "DEBUG:cmdstanpy:CmdStan args: ['/usr/local/lib/python3.11/dist-packages/prophet/stan_model/prophet_model.bin', 'random', 'seed=99108', 'data', 'file=/tmp/tmp_5el415y/ag1cb7s3.json', 'init=/tmp/tmp_5el415y/j_k7d32z.json', 'output', 'file=/tmp/tmp_5el415y/prophet_modelvni19ll9/prophet_model-20250512071437.csv', 'method=optimize', 'algorithm=lbfgs', 'iter=10000']\n",
            "07:14:37 - cmdstanpy - INFO - Chain [1] start processing\n",
            "INFO:cmdstanpy:Chain [1] start processing\n"
          ]
        },
        {
          "output_type": "stream",
          "name": "stdout",
          "text": [
            "TCS.NS: Prophet price forecast next 2 days: [4514.22580487 4529.71012583]\n"
          ]
        },
        {
          "output_type": "stream",
          "name": "stderr",
          "text": [
            "07:14:38 - cmdstanpy - INFO - Chain [1] done processing\n",
            "INFO:cmdstanpy:Chain [1] done processing\n",
            "DEBUG:cmdstanpy:input tempfile: /tmp/tmp_5el415y/wkyxi083.json\n",
            "DEBUG:cmdstanpy:input tempfile: /tmp/tmp_5el415y/my9c6rwy.json\n",
            "DEBUG:cmdstanpy:idx 0\n",
            "DEBUG:cmdstanpy:running CmdStan, num_threads: None\n",
            "DEBUG:cmdstanpy:CmdStan args: ['/usr/local/lib/python3.11/dist-packages/prophet/stan_model/prophet_model.bin', 'random', 'seed=40704', 'data', 'file=/tmp/tmp_5el415y/wkyxi083.json', 'init=/tmp/tmp_5el415y/my9c6rwy.json', 'output', 'file=/tmp/tmp_5el415y/prophet_modelnxgid3ix/prophet_model-20250512071438.csv', 'method=optimize', 'algorithm=lbfgs', 'iter=10000']\n",
            "07:14:38 - cmdstanpy - INFO - Chain [1] start processing\n",
            "INFO:cmdstanpy:Chain [1] start processing\n"
          ]
        },
        {
          "output_type": "stream",
          "name": "stdout",
          "text": [
            "HDFCBANK.NS: Prophet price forecast next 2 days: [1818.91745012 1820.69724521]\n"
          ]
        },
        {
          "output_type": "stream",
          "name": "stderr",
          "text": [
            "07:14:39 - cmdstanpy - INFO - Chain [1] done processing\n",
            "INFO:cmdstanpy:Chain [1] done processing\n",
            "DEBUG:cmdstanpy:input tempfile: /tmp/tmp_5el415y/1lxcnu5z.json\n",
            "DEBUG:cmdstanpy:input tempfile: /tmp/tmp_5el415y/mo4630ds.json\n",
            "DEBUG:cmdstanpy:idx 0\n",
            "DEBUG:cmdstanpy:running CmdStan, num_threads: None\n",
            "DEBUG:cmdstanpy:CmdStan args: ['/usr/local/lib/python3.11/dist-packages/prophet/stan_model/prophet_model.bin', 'random', 'seed=2329', 'data', 'file=/tmp/tmp_5el415y/1lxcnu5z.json', 'init=/tmp/tmp_5el415y/mo4630ds.json', 'output', 'file=/tmp/tmp_5el415y/prophet_modelje69wds5/prophet_model-20250512071439.csv', 'method=optimize', 'algorithm=lbfgs', 'iter=10000']\n",
            "07:14:39 - cmdstanpy - INFO - Chain [1] start processing\n",
            "INFO:cmdstanpy:Chain [1] start processing\n"
          ]
        },
        {
          "output_type": "stream",
          "name": "stdout",
          "text": [
            "INFY.NS: Prophet price forecast next 2 days: [2007.34722254 2012.07409288]\n"
          ]
        },
        {
          "output_type": "stream",
          "name": "stderr",
          "text": [
            "07:14:40 - cmdstanpy - INFO - Chain [1] done processing\n",
            "INFO:cmdstanpy:Chain [1] done processing\n",
            "DEBUG:cmdstanpy:input tempfile: /tmp/tmp_5el415y/8c2z6urb.json\n",
            "DEBUG:cmdstanpy:input tempfile: /tmp/tmp_5el415y/q_b3lzuq.json\n",
            "DEBUG:cmdstanpy:idx 0\n",
            "DEBUG:cmdstanpy:running CmdStan, num_threads: None\n",
            "DEBUG:cmdstanpy:CmdStan args: ['/usr/local/lib/python3.11/dist-packages/prophet/stan_model/prophet_model.bin', 'random', 'seed=15217', 'data', 'file=/tmp/tmp_5el415y/8c2z6urb.json', 'init=/tmp/tmp_5el415y/q_b3lzuq.json', 'output', 'file=/tmp/tmp_5el415y/prophet_modeloo10w4jp/prophet_model-20250512071440.csv', 'method=optimize', 'algorithm=lbfgs', 'iter=10000']\n",
            "07:14:40 - cmdstanpy - INFO - Chain [1] start processing\n",
            "INFO:cmdstanpy:Chain [1] start processing\n"
          ]
        },
        {
          "output_type": "stream",
          "name": "stdout",
          "text": [
            "ICICIBANK.NS: Prophet price forecast next 2 days: [1322.68700869 1323.02141344]\n"
          ]
        },
        {
          "output_type": "stream",
          "name": "stderr",
          "text": [
            "07:14:41 - cmdstanpy - INFO - Chain [1] done processing\n",
            "INFO:cmdstanpy:Chain [1] done processing\n",
            "DEBUG:cmdstanpy:input tempfile: /tmp/tmp_5el415y/logz5_tx.json\n",
            "DEBUG:cmdstanpy:input tempfile: /tmp/tmp_5el415y/sl0blubn.json\n",
            "DEBUG:cmdstanpy:idx 0\n",
            "DEBUG:cmdstanpy:running CmdStan, num_threads: None\n",
            "DEBUG:cmdstanpy:CmdStan args: ['/usr/local/lib/python3.11/dist-packages/prophet/stan_model/prophet_model.bin', 'random', 'seed=95641', 'data', 'file=/tmp/tmp_5el415y/logz5_tx.json', 'init=/tmp/tmp_5el415y/sl0blubn.json', 'output', 'file=/tmp/tmp_5el415y/prophet_modeln7_8eyhc/prophet_model-20250512071441.csv', 'method=optimize', 'algorithm=lbfgs', 'iter=10000']\n",
            "07:14:41 - cmdstanpy - INFO - Chain [1] start processing\n",
            "INFO:cmdstanpy:Chain [1] start processing\n"
          ]
        },
        {
          "output_type": "stream",
          "name": "stdout",
          "text": [
            "HINDUNILVR.NS: Prophet price forecast next 2 days: [2564.29636783 2570.93382044]\n"
          ]
        },
        {
          "output_type": "stream",
          "name": "stderr",
          "text": [
            "07:14:42 - cmdstanpy - INFO - Chain [1] done processing\n",
            "INFO:cmdstanpy:Chain [1] done processing\n",
            "DEBUG:cmdstanpy:input tempfile: /tmp/tmp_5el415y/eq0ll8kn.json\n",
            "DEBUG:cmdstanpy:input tempfile: /tmp/tmp_5el415y/03joksmn.json\n",
            "DEBUG:cmdstanpy:idx 0\n",
            "DEBUG:cmdstanpy:running CmdStan, num_threads: None\n",
            "DEBUG:cmdstanpy:CmdStan args: ['/usr/local/lib/python3.11/dist-packages/prophet/stan_model/prophet_model.bin', 'random', 'seed=15550', 'data', 'file=/tmp/tmp_5el415y/eq0ll8kn.json', 'init=/tmp/tmp_5el415y/03joksmn.json', 'output', 'file=/tmp/tmp_5el415y/prophet_model8b8gtylm/prophet_model-20250512071442.csv', 'method=optimize', 'algorithm=lbfgs', 'iter=10000']\n",
            "07:14:42 - cmdstanpy - INFO - Chain [1] start processing\n",
            "INFO:cmdstanpy:Chain [1] start processing\n"
          ]
        },
        {
          "output_type": "stream",
          "name": "stdout",
          "text": [
            "SBIN.NS: Prophet price forecast next 2 days: [880.21287786 882.52473221]\n"
          ]
        },
        {
          "output_type": "stream",
          "name": "stderr",
          "text": [
            "07:14:43 - cmdstanpy - INFO - Chain [1] done processing\n",
            "INFO:cmdstanpy:Chain [1] done processing\n",
            "DEBUG:cmdstanpy:input tempfile: /tmp/tmp_5el415y/li8qpqqt.json\n"
          ]
        },
        {
          "output_type": "stream",
          "name": "stdout",
          "text": [
            "AXISBANK.NS: Prophet price forecast next 2 days: [1211.87933575 1215.26161851]\n"
          ]
        },
        {
          "output_type": "stream",
          "name": "stderr",
          "text": [
            "DEBUG:cmdstanpy:input tempfile: /tmp/tmp_5el415y/4ujk7qb2.json\n",
            "DEBUG:cmdstanpy:idx 0\n",
            "DEBUG:cmdstanpy:running CmdStan, num_threads: None\n",
            "DEBUG:cmdstanpy:CmdStan args: ['/usr/local/lib/python3.11/dist-packages/prophet/stan_model/prophet_model.bin', 'random', 'seed=62754', 'data', 'file=/tmp/tmp_5el415y/li8qpqqt.json', 'init=/tmp/tmp_5el415y/4ujk7qb2.json', 'output', 'file=/tmp/tmp_5el415y/prophet_modelxmkg6yy5/prophet_model-20250512071444.csv', 'method=optimize', 'algorithm=lbfgs', 'iter=10000']\n",
            "07:14:44 - cmdstanpy - INFO - Chain [1] start processing\n",
            "INFO:cmdstanpy:Chain [1] start processing\n",
            "07:14:44 - cmdstanpy - INFO - Chain [1] done processing\n",
            "INFO:cmdstanpy:Chain [1] done processing\n",
            "DEBUG:cmdstanpy:input tempfile: /tmp/tmp_5el415y/342jpu5x.json\n",
            "DEBUG:cmdstanpy:input tempfile: /tmp/tmp_5el415y/qex4uopx.json\n",
            "DEBUG:cmdstanpy:idx 0\n",
            "DEBUG:cmdstanpy:running CmdStan, num_threads: None\n",
            "DEBUG:cmdstanpy:CmdStan args: ['/usr/local/lib/python3.11/dist-packages/prophet/stan_model/prophet_model.bin', 'random', 'seed=36540', 'data', 'file=/tmp/tmp_5el415y/342jpu5x.json', 'init=/tmp/tmp_5el415y/qex4uopx.json', 'output', 'file=/tmp/tmp_5el415y/prophet_model_ajp2rg7/prophet_model-20250512071445.csv', 'method=optimize', 'algorithm=lbfgs', 'iter=10000']\n",
            "07:14:45 - cmdstanpy - INFO - Chain [1] start processing\n",
            "INFO:cmdstanpy:Chain [1] start processing\n"
          ]
        },
        {
          "output_type": "stream",
          "name": "stdout",
          "text": [
            "BAJFINANCE.NS: Prophet price forecast next 2 days: [6976.03453747 6983.58810533]\n"
          ]
        },
        {
          "output_type": "stream",
          "name": "stderr",
          "text": [
            "07:14:45 - cmdstanpy - INFO - Chain [1] done processing\n",
            "INFO:cmdstanpy:Chain [1] done processing\n"
          ]
        },
        {
          "output_type": "stream",
          "name": "stdout",
          "text": [
            "ASIANPAINT.NS: Prophet price forecast next 2 days: [2802.48077587 2810.59262034]\n"
          ]
        }
      ]
    },
    {
      "cell_type": "markdown",
      "source": [
        "# **Volatility Analysis**"
      ],
      "metadata": {
        "id": "aPtTpOrULa4r"
      }
    },
    {
      "cell_type": "code",
      "source": [
        "# Rolling volatility (annualized) for each stock\n",
        "volatility = {}\n",
        "for stock in stock_data:\n",
        "    returns = stock_data[stock]['Return']\n",
        "    rolling_vol = returns.rolling(window=30).std() * np.sqrt(252)\n",
        "    volatility[stock] = rolling_vol.iloc[-1]\n",
        "    print(f\"{stock}: Last 30-day annualized volatility: {volatility[stock]:.4f}\")\n"
      ],
      "metadata": {
        "colab": {
          "base_uri": "https://localhost:8080/"
        },
        "id": "O3WayFGIWOez",
        "outputId": "cf94c813-fedc-415f-e47a-8aa8bd998dfb"
      },
      "execution_count": null,
      "outputs": [
        {
          "output_type": "stream",
          "name": "stdout",
          "text": [
            "RELIANCE.NS: Last 30-day annualized volatility: 0.2125\n",
            "TCS.NS: Last 30-day annualized volatility: 0.2289\n",
            "HDFCBANK.NS: Last 30-day annualized volatility: 0.1651\n",
            "INFY.NS: Last 30-day annualized volatility: 0.2238\n",
            "ICICIBANK.NS: Last 30-day annualized volatility: 0.1480\n",
            "HINDUNILVR.NS: Last 30-day annualized volatility: 0.2063\n",
            "SBIN.NS: Last 30-day annualized volatility: 0.2491\n",
            "AXISBANK.NS: Last 30-day annualized volatility: 0.1721\n",
            "BAJFINANCE.NS: Last 30-day annualized volatility: 0.2105\n",
            "ASIANPAINT.NS: Last 30-day annualized volatility: 0.1650\n"
          ]
        }
      ]
    },
    {
      "cell_type": "markdown",
      "source": [
        "# **Portfolio Allocation**"
      ],
      "metadata": {
        "id": "mYg8zeGzLiLC"
      }
    },
    {
      "cell_type": "code",
      "source": [
        "# Build a list of allocation records instead of using .append()\n",
        "allocation_records = []\n",
        "\n",
        "for stock in prophet_forecasts:\n",
        "    if stock in volatility and len(prophet_forecasts[stock]) == 2:\n",
        "        last_price = stock_data[stock]['Close'].iloc[-1]\n",
        "        ret = (prophet_forecasts[stock][1] - last_price) / last_price\n",
        "        allocation_records.append({\n",
        "            'Stock': stock,\n",
        "            'ForecastReturn': ret,\n",
        "            'Volatility': volatility[stock]\n",
        "        })\n",
        "\n",
        "# Create DataFrame from the list of dictionaries\n",
        "allocation_df = pd.DataFrame(allocation_records)\n",
        "\n",
        "# Risk-adjusted score\n",
        "allocation_df['Score'] = allocation_df['ForecastReturn'] / allocation_df['Volatility']\n",
        "allocation_df = allocation_df.sort_values('Score', ascending=False).head(5)\n",
        "allocation_df['Weight'] = allocation_df['Score'] / allocation_df['Score'].sum()\n",
        "allocation_df['Capital'] = allocation_df['Weight'] * 1_000_000\n",
        "print(allocation_df[['Stock', 'ForecastReturn', 'Volatility', 'Weight', 'Capital']])\n"
      ],
      "metadata": {
        "colab": {
          "base_uri": "https://localhost:8080/"
        },
        "id": "LP22OtC7Xggr",
        "outputId": "284efcb6-bde8-4d91-ecb0-65c08d91ff82"
      },
      "execution_count": null,
      "outputs": [
        {
          "output_type": "stream",
          "name": "stdout",
          "text": [
            "           Stock  ForecastReturn  Volatility    Weight        Capital\n",
            "9  ASIANPAINT.NS        0.228272    0.165025  0.365854  365854.346876\n",
            "7    AXISBANK.NS        0.135812    0.172106  0.208711  208710.662518\n",
            "0    RELIANCE.NS        0.139862    0.212485  0.174091  174091.045026\n",
            "6        SBIN.NS        0.119529    0.249066  0.126930  126929.758008\n",
            "5  HINDUNILVR.NS        0.097049    0.206312  0.124414  124414.187573\n"
          ]
        }
      ]
    },
    {
      "cell_type": "markdown",
      "source": [
        "# **Visualize Portfolio**"
      ],
      "metadata": {
        "id": "W_eDi6JFLulL"
      }
    },
    {
      "cell_type": "code",
      "source": [
        "plt.figure(figsize=(8,4))\n",
        "plt.bar(allocation_df['Stock'], allocation_df['Capital'])\n",
        "plt.title('Capital Allocation by Stock')\n",
        "plt.ylabel('INR')\n",
        "plt.show()\n"
      ],
      "metadata": {
        "colab": {
          "base_uri": "https://localhost:8080/",
          "height": 391
        },
        "id": "K8WV4SrjYB8U",
        "outputId": "a129ed16-f937-4d49-e5de-e400e8ddda0f"
      },
      "execution_count": null,
      "outputs": [
        {
          "output_type": "display_data",
          "data": {
            "text/plain": [
              "<Figure size 800x400 with 1 Axes>"
            ],
            "image/png": "[encoded data removed]"
          },
          "metadata": {}
        }
      ]
    }
  ]
}